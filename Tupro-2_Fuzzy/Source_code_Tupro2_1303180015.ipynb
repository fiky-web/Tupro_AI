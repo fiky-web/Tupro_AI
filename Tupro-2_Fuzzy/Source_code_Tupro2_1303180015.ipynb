{
  "nbformat": 4,
  "nbformat_minor": 0,
  "metadata": {
    "kernelspec": {
      "display_name": "Python 3",
      "language": "python",
      "name": "python3"
    },
    "language_info": {
      "codemirror_mode": {
        "name": "ipython",
        "version": 3
      },
      "file_extension": ".py",
      "mimetype": "text/x-python",
      "name": "python",
      "nbconvert_exporter": "python",
      "pygments_lexer": "ipython3",
      "version": "3.9.2"
    },
    "metadata": {
      "interpreter": {
        "hash": "ac59ebe37160ed0dfa835113d9b8498d9f09ceb179beaac4002f036b9467c963"
      }
    },
    "colab": {
      "name": " Source code_Tupro2_1303180015.ipynb",
      "provenance": [],
      "collapsed_sections": [],
      "toc_visible": true
    }
  },
  "cells": [
    {
      "cell_type": "markdown",
      "metadata": {
        "id": "CtnWCyjzbbbe"
      },
      "source": [
        "# Implementasi Fuzzy Logic untuk pemeringkatan 10 restoran terbaik dari 100 data restoran\n",
        "\n",
        "- Fiky Anggara (1303180015)\n",
        "\n",
        "#IT-42-03\n",
        "\n",
        "Proyek ini merupakan proyek kedua dari Mata Kuliah Sistem Cerdas. Proyek kedua ini mengimplementasikan teknik reasoning dalam Kecerdasan Buatan dengan Fuzzy Logic. Pada tugas ini, saya akan membuat suatu algoritma dimana akan memeringkatkan 10 restoran terbaik dari 100 restoran berdasarkan penilaian makanan dan pelayanan dari restoran tersebut. Dengan data-data tersebut saya diminta untuk menerapkan algoritma Fuzzy Logic.\n",
        "\n",
        "\n"
      ]
    },
    {
      "cell_type": "markdown",
      "metadata": {
        "id": "iCLRC03Ubbbu"
      },
      "source": [
        "# Import Libararies and Data"
      ]
    },
    {
      "cell_type": "markdown",
      "metadata": {
        "id": "jcrE5Xq-bbbw"
      },
      "source": [
        "Disini saya menggunakan <b>pandas</b> untuk input/output dari data yang diminta, selain itu juga saya membutuhkan <b>matplotlib.pyplot</b> untuk membuat gambar fungsi keanggotaan. Saya menggunakan fungsi upload dan read_excel() untuk memasukkan data dari tugas Saya dan memasukkannya ke dalam kelas restoran yang telah saya buat."
      ]
    },
    {
      "cell_type": "code",
      "metadata": {
        "colab": {
          "resources": {
            "http://localhost:8080/nbextensions/google.colab/files.js": {
              "data": "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",
              "ok": true,
              "headers": [
                [
                  "content-type",
                  "application/javascript"
                ]
              ],
              "status": 200,
              "status_text": ""
            }
          },
          "base_uri": "https://localhost:8080/",
          "height": 73
        },
        "id": "18Z8yXclBnND",
        "outputId": "2ca3ae49-2adb-4ce5-b0c5-5b732bf2eb87"
      },
      "source": [
        "from google.colab import files\n",
        "uploaded = files.upload()"
      ],
      "execution_count": null,
      "outputs": [
        {
          "output_type": "display_data",
          "data": {
            "text/html": [
              "\n",
              "     <input type=\"file\" id=\"files-39cb1ff6-89c9-4c25-aace-2b607d1a988c\" name=\"files[]\" multiple disabled\n",
              "        style=\"border:none\" />\n",
              "     <output id=\"result-39cb1ff6-89c9-4c25-aace-2b607d1a988c\">\n",
              "      Upload widget is only available when the cell has been executed in the\n",
              "      current browser session. Please rerun this cell to enable.\n",
              "      </output>\n",
              "      <script src=\"/nbextensions/google.colab/files.js\"></script> "
            ],
            "text/plain": [
              "<IPython.core.display.HTML object>"
            ]
          },
          "metadata": {
            "tags": []
          }
        },
        {
          "output_type": "stream",
          "text": [
            "Saving Masukan.xlsx to Masukan.xlsx\n"
          ],
          "name": "stdout"
        }
      ]
    },
    {
      "cell_type": "code",
      "metadata": {
        "id": "VUMpfOzibbbx",
        "colab": {
          "base_uri": "https://localhost:8080/",
          "height": 194
        },
        "outputId": "5b92cf04-83a8-41b7-f737-34f817c9e20d"
      },
      "source": [
        "import pandas as pd\n",
        "import matplotlib.pyplot as plt\n",
        "\n",
        "df = pd.read_excel('Masukan.xlsx')\n",
        "df.head()"
      ],
      "execution_count": null,
      "outputs": [
        {
          "output_type": "execute_result",
          "data": {
            "text/html": [
              "<div>\n",
              "<style scoped>\n",
              "    .dataframe tbody tr th:only-of-type {\n",
              "        vertical-align: middle;\n",
              "    }\n",
              "\n",
              "    .dataframe tbody tr th {\n",
              "        vertical-align: top;\n",
              "    }\n",
              "\n",
              "    .dataframe thead th {\n",
              "        text-align: right;\n",
              "    }\n",
              "</style>\n",
              "<table border=\"1\" class=\"dataframe\">\n",
              "  <thead>\n",
              "    <tr style=\"text-align: right;\">\n",
              "      <th></th>\n",
              "      <th>id</th>\n",
              "      <th>pelayanan</th>\n",
              "      <th>makanan</th>\n",
              "    </tr>\n",
              "  </thead>\n",
              "  <tbody>\n",
              "    <tr>\n",
              "      <th>0</th>\n",
              "      <td>1</td>\n",
              "      <td>58</td>\n",
              "      <td>7</td>\n",
              "    </tr>\n",
              "    <tr>\n",
              "      <th>1</th>\n",
              "      <td>2</td>\n",
              "      <td>54</td>\n",
              "      <td>1</td>\n",
              "    </tr>\n",
              "    <tr>\n",
              "      <th>2</th>\n",
              "      <td>3</td>\n",
              "      <td>98</td>\n",
              "      <td>2</td>\n",
              "    </tr>\n",
              "    <tr>\n",
              "      <th>3</th>\n",
              "      <td>4</td>\n",
              "      <td>52</td>\n",
              "      <td>4</td>\n",
              "    </tr>\n",
              "    <tr>\n",
              "      <th>4</th>\n",
              "      <td>5</td>\n",
              "      <td>11</td>\n",
              "      <td>4</td>\n",
              "    </tr>\n",
              "  </tbody>\n",
              "</table>\n",
              "</div>"
            ],
            "text/plain": [
              "   id  pelayanan  makanan\n",
              "0   1         58        7\n",
              "1   2         54        1\n",
              "2   3         98        2\n",
              "3   4         52        4\n",
              "4   5         11        4"
            ]
          },
          "metadata": {
            "tags": []
          },
          "execution_count": 2
        }
      ]
    },
    {
      "cell_type": "code",
      "metadata": {
        "id": "HGkfr48wbbb0"
      },
      "source": [
        "class restoran:\n",
        "    def __init__(self):\n",
        "        self.id_restoran = 0\n",
        "        self.pelayanan = 0\n",
        "        self.makanan = 0\n",
        "        \n",
        "        # Fuzzifikasi (Fuzzy Input)\n",
        "        self.makanan_enak = -1          # Range [7, 10]\n",
        "        self.makanan_tidakenak = -1     # Range [1, 4]\n",
        "        \n",
        "        self.pelayanan_baik = -1        # Range [90, 100]\n",
        "        self.pelayanan_biasa = -1       # Range [40, 60]\n",
        "        self.pelayanan_jelek = -1       # Range [1, 20]\n",
        "        \n",
        "        # Inferensi (Fuzzy Output)\n",
        "        self.bagus = []                 # Masukkan Semua Nilai Yang Mungkin untuk Bagus\n",
        "        self.buruk = []                 # Masukkan Semua Nilai Yang Mungkin untuk Buruk\n",
        "        self.bagus_akhir = 0            # Nilai Terkecil dari list Bagus\n",
        "        self.buruk_akhir = 0            # Nilai Terkecil dari list Buruk\n",
        "        \n",
        "        # Defuzzifikasi (Crisp Input)\n",
        "        self.nilai_akhir = 0\n",
        "        \n",
        "    def tampilData(self):\n",
        "        print('id restoran: {} \\n nilai pelayanan: {} \\n nilai makanan: {} \\n nilai akhir: {} \\n   makanan_enak: {} \\n   makanan_tidakenak: {} \\n   pelayanan_baik: {} \\n   pelayanan_biasa: {} \\n   pelayanan_jelek: {} \\n   persentase bagus: {} \\n   persentase buruk: {}'.format(self.id_restoran, self.pelayanan, self.makanan, self.nilai_akhir, self.makanan_enak, self.makanan_tidakenak, self.pelayanan_baik, self.pelayanan_biasa, self.pelayanan_jelek, self.bagus_akhir, self.buruk_akhir))\n",
        "\n",
        "        \n",
        "restoran_data  = []\n",
        "\n",
        "#Masukkan data dari dataframe ke dalam list restoran data\n",
        "for i in range(len(df)):\n",
        "    restoran_temp = restoran()\n",
        "    restoran_temp.id_restoran = df.iloc[i][0]\n",
        "    restoran_temp.pelayanan = df.iloc[i][1]\n",
        "    restoran_temp.makanan = df.iloc[i][2]\n",
        "    restoran_data.append(restoran_temp)"
      ],
      "execution_count": null,
      "outputs": []
    },
    {
      "cell_type": "markdown",
      "metadata": {
        "id": "nkSBlzvPbbb2"
      },
      "source": [
        "# Pengklasifikasian Fungsi Keanggotaan/Crips Input dan nilai μ serta melakukan Fuzzifikasi\n",
        "Kualitas pelayanan dapat dibagi menjadi\n",
        "- Baik  \n",
        "- Biasa  \n",
        "- Jelek   \n",
        "\n",
        "Kualitas Makanan\n",
        "- Enak  \n",
        "- Tidak Enak  \n",
        "\n",
        "Dimana kedua hal tersebut memiliki Fungsi Keanggotaan yang sama yaitu trapesium.  \n",
        "Dengan nilai crisp tersebut saya membuat gambaran nilai μ yang akan saya buat seperti pada gambar di bawah:  \n",
        "\n",
        "Sehingga akan menghailkan nilai hasil dari fuzzifikasi (fuzzi input)"
      ]
    },
    {
      "cell_type": "code",
      "metadata": {
        "id": "noUJjBW5bbb3",
        "colab": {
          "base_uri": "https://localhost:8080/",
          "height": 683
        },
        "outputId": "cce819df-1373-4363-9b65-180d53ce4db5"
      },
      "source": [
        "def GambarPelayanan():\n",
        "    x1 = [0,20,40,100] \n",
        "    y1 = [1,1,0,0] \n",
        "    \n",
        "    x2 = [0,20,40,60,90,100] \n",
        "    y2 = [0,0,1,1,0,0]\n",
        "    \n",
        "    x3 = [0,60,90,100] \n",
        "    y3 = [0,0,1,1]\n",
        "    \n",
        "    plt.figure(figsize=(10,5))\n",
        "    plt.plot(x1, y1,'r-',label = 'Jelek') \n",
        "    plt.plot(x2, y2,'g-',label = 'Biasa') \n",
        "    plt.plot(x3, y3,'b-',label = 'Baik')\n",
        "    plt.xlabel('Nilai Pelayanan')\n",
        "    plt.ylabel('Nilai Keanggotaan')\n",
        "    plt.title('Pelayanan (Dalam Rating)') \n",
        "    plt.legend()\n",
        "    plt.savefig('fungsi_keanggotaan_pelayanan.jpg', format='jpg', dpi=300)\n",
        "    plt.show()\n",
        "    \n",
        "def GambarMakanan():\n",
        "    x1 = [0,4,7,10] \n",
        "    y1 = [1,1,0,0] \n",
        "    \n",
        "    x2 = [0,4,7,10] \n",
        "    y2 = [0,0,1,1] \n",
        "    \n",
        "    fig = plt.figure(figsize=(10,5))\n",
        "    plt.plot(x1, y1,'r-',label = 'Tidak Enak') \n",
        "    plt.plot(x2, y2,'b-',label = 'Enak')\n",
        "    plt.xlabel('Penilaian Makanan')\n",
        "    plt.ylabel('Nilai Keanggotaan')\n",
        "    plt.title('Makanan (Dalam Rating)') \n",
        "    plt.legend()\n",
        "    plt.savefig('fungsi_keanggotaan_makanan.jpg', format='jpg', dpi=300)\n",
        "    plt.show()\n",
        "    \n",
        "    \n",
        "GambarPelayanan()\n",
        "GambarMakanan()"
      ],
      "execution_count": null,
      "outputs": [
        {
          "output_type": "display_data",
          "data": {
            "image/png": "[encoded data removed]",
            "text/plain": [
              "<Figure size 720x360 with 1 Axes>"
            ]
          },
          "metadata": {
            "tags": [],
            "needs_background": "light"
          }
        },
        {
          "output_type": "display_data",
          "data": {
            "image/png": "[encoded data removed]",
            "text/plain": [
              "<Figure size 720x360 with 1 Axes>"
            ]
          },
          "metadata": {
            "tags": [],
            "needs_background": "light"
          }
        }
      ]
    },
    {
      "cell_type": "code",
      "metadata": {
        "id": "Lzwr9R-hbbb4"
      },
      "source": [
        "def fuzzifikasi(restoran_temp):\n",
        "    for i in range (len(restoran_temp)):\n",
        "        # Perhitungan pelayanan\n",
        "        if restoran_temp[i].pelayanan >= 1 and restoran_temp[i].pelayanan <= 20:\n",
        "            restoran_temp[i].pelayanan_jelek = 1\n",
        "        elif restoran_temp[i].pelayanan > 20 and restoran_temp[i].pelayanan < 40:\n",
        "            restoran_temp[i].pelayanan_jelek = -(restoran_temp[i].pelayanan - 40)/(40 - 20)\n",
        "            restoran_temp[i].pelayanan_biasa = (restoran_temp[i].pelayanan - 20)/(40 - 20)\n",
        "        elif restoran_temp[i].pelayanan >= 40 and restoran_temp[i].pelayanan <= 60:\n",
        "            restoran_temp[i].pelayanan_biasa = 1\n",
        "        elif restoran_temp[i].pelayanan > 60 and restoran_temp[i].pelayanan < 90:\n",
        "            restoran_temp[i].pelayanan_biasa = -(restoran_temp[i].pelayanan - 90)/(90 - 60)\n",
        "            restoran_temp[i].pelayanan_baik = (restoran_temp[i].pelayanan - 60)/(90 - 60)\n",
        "        elif restoran_temp[i].pelayanan >= 90 and restoran_temp[i].pelayanan <= 100:\n",
        "            restoran_temp[i].pelayanan_baik = 1\n",
        "\n",
        "        if restoran_temp[i].makanan >= 1 and restoran_temp[i].makanan <= 4:\n",
        "            restoran_temp[i].makanan_tidakenak = 1\n",
        "        elif restoran_temp[i].makanan > 4 and restoran_temp[i].makanan < 7:\n",
        "            restoran_temp[i].makanan_tidakenak = -(restoran_temp[i].makanan - 7)/(7 - 4)\n",
        "            restoran_temp[i].makanan_enak = (restoran_temp[i].makanan - 4)/(7 - 4)\n",
        "        elif restoran_temp[i].makanan >= 7 and restoran_temp[i].makanan <= 10:\n",
        "            restoran_temp[i].makanan_enak = 1\n",
        "            \n",
        "    return restoran_temp \n",
        "\n",
        "# Melakukan Fuzzifikasi terhadap restoran_data\n",
        "restoran_data = fuzzifikasi(restoran_data)"
      ],
      "execution_count": null,
      "outputs": []
    },
    {
      "cell_type": "markdown",
      "metadata": {
        "id": "E7-Uam0Qbbb6"
      },
      "source": [
        "# Inferensi\n",
        "Untuk menghasilkan fuzzy output, kita harus melakukan terlebih dahulu Inferensi berdasarkan aturan-aturan yang sudah di atur.\n",
        "Aturan tersebut dapat dilihat seperti di bawah:  \n",
        "\n",
        "| Makanan \\ Pelayanan | Jelek | Biasa | Baik  |\n",
        "|-------------------|-------|-------|-------|\n",
        "| Tidak Enak        | Buruk | Buruk | Buruk |\n",
        "| Enak              | Buruk | Bagus | Bagus | "
      ]
    },
    {
      "cell_type": "code",
      "metadata": {
        "id": "XvehFeTmbbb7"
      },
      "source": [
        "def inferensi(restoran_temp):\n",
        "    for i in range  (len(restoran_temp)):\n",
        "      if restoran_temp[i].makanan_tidakenak != -1:\n",
        "          if restoran_temp[i].pelayanan_jelek != -1:\n",
        "              restoran_temp[i].buruk.append(min(restoran_temp[i].makanan_tidakenak,restoran_temp[i].pelayanan_jelek))\n",
        "          if restoran_temp[i].pelayanan_biasa != -1:\n",
        "              restoran_temp[i].buruk.append(min(restoran_temp[i].makanan_tidakenak,restoran_temp[i].pelayanan_biasa))\n",
        "          if restoran_temp[i].pelayanan_baik != -1:\n",
        "              restoran_temp[i].buruk.append(min(restoran_temp[i].makanan_tidakenak, restoran_temp[i].pelayanan_baik))\n",
        "      if restoran_temp[i].makanan_enak != -1:\n",
        "          if restoran_temp[i].pelayanan_jelek != -1:\n",
        "              restoran_temp[i].buruk.append(min(restoran_temp[i].makanan_enak,restoran_temp[i].pelayanan_jelek))\n",
        "          if restoran_temp[i].pelayanan_biasa != -1:\n",
        "              restoran_temp[i].bagus.append(min(restoran_temp[i].makanan_enak,restoran_temp[i].pelayanan_biasa))\n",
        "          if restoran_temp[i].pelayanan_baik != -1:\n",
        "              restoran_temp[i].bagus.append(min(restoran_temp[i].makanan_enak, restoran_temp[i].pelayanan_baik))\n",
        "      \n",
        "      if len(restoran_temp[i].bagus) != 0:\n",
        "          restoran_temp[i].bagus_akhir = max(restoran_temp[i].bagus)\n",
        "          \n",
        "      if len(restoran_temp[i].buruk) != 0:\n",
        "          restoran_temp[i].buruk_akhir = max(restoran_temp[i].buruk)\n",
        "      \n",
        "    return restoran_temp\n",
        "\n",
        "# Melakukan inferensi terhadap restoran_data\n",
        "restoran_data = inferensi(restoran_data)"
      ],
      "execution_count": null,
      "outputs": []
    },
    {
      "cell_type": "markdown",
      "metadata": {
        "id": "n8RmDQpVbbb8"
      },
      "source": [
        "# Defuzzifikasi\n",
        "Berdasrkan nilai yang didapat dari nilai inferensi sebelumnya, kita harus melakukan defuzzifikasi sehingga mendaptkan nilai yang diinginkan.  \n",
        "Dengan berdasarkan μ output, kita mendapatkan nilai bilangan real dari 1 hingga 100.  \n",
        "\n",
        "Penilaian Restoran\n",
        "- Bagus\n",
        "- Buruk\n",
        "\n",
        "Dengan gambar fungsi keanggotaan seperit berikut:  "
      ]
    },
    {
      "cell_type": "code",
      "metadata": {
        "id": "EBitVenubbb9",
        "colab": {
          "base_uri": "https://localhost:8080/",
          "height": 350
        },
        "outputId": "2cfeb9c6-f28d-4b07-889f-b025b01192ab"
      },
      "source": [
        "def GambarNilaiAkhir():\n",
        "    x1 = [0,40,80,100] \n",
        "    y1 = [1,1,0,0] \n",
        "    \n",
        "    x2 = [0,40,80,100] \n",
        "    y2 = [0,0,1,1] \n",
        "    \n",
        "    plt.figure(figsize=(10,5))\n",
        "    plt.plot(x1, y1,'r-',label = 'Buruk') \n",
        "    plt.plot(x2, y2,'b-',label = 'Bagus')\n",
        "    plt.xlabel('Penilaian Restoran')\n",
        "    plt.ylabel('Nilai Keanggotaan')\n",
        "    plt.title('Rating Akhir') \n",
        "    plt.legend()\n",
        "    plt.savefig('fungsi_keanggotaan_output.jpg', format='jpg', dpi=300)\n",
        "    plt.show()\n",
        "    \n",
        "    \n",
        "GambarNilaiAkhir()"
      ],
      "execution_count": null,
      "outputs": [
        {
          "output_type": "display_data",
          "data": {
            "image/png": "[encoded data removed]",
            "text/plain": [
              "<Figure size 720x360 with 1 Axes>"
            ]
          },
          "metadata": {
            "tags": [],
            "needs_background": "light"
          }
        }
      ]
    },
    {
      "cell_type": "code",
      "metadata": {
        "id": "C1Y6o39xbbb-"
      },
      "source": [
        "def defuzzifikasi(sample: int, rest: restoran) -> restoran:\n",
        "    #Parameter fungsi keanggotaan output\n",
        "    parm = {\n",
        "        \"batas_bawah\" : 1,\n",
        "        \"buruk_c\" : 40,\n",
        "        \"buruk_d\" : 80,\n",
        "        \"bagus_a\" : 40,\n",
        "        \"bagus_b\" : 80,\n",
        "        \"batas_atas\": 100\n",
        "    }\n",
        "    \n",
        "    pembilang = 0\n",
        "    penyebut = 0\n",
        "    increment = 100 // sample\n",
        "    for i in (range(sample-0)):\n",
        "        bilangan = (i+1) * increment\n",
        "        # print(bilangan)\n",
        "        if bilangan <= parm['buruk_c']:                    #Pengecekkan jika berada dari titik buruk_c ke bawah\n",
        "            pembilang += bilangan*rest.buruk_akhir\n",
        "            penyebut += rest.buruk_akhir\n",
        "        elif bilangan >= parm['bagus_b']:                  #Pengecekkan jika berada dari titik bagus_b ke atas\n",
        "            pembilang += bilangan*rest.bagus_akhir\n",
        "            penyebut += rest.bagus_akhir\n",
        "        else:                                           #Pengecekkan jika berada di antara / transisi\n",
        "            nilai_asli_buruk = -(bilangan - parm['buruk_d']) / (parm['buruk_d'] - parm['buruk_c'])\n",
        "            nilai_asli_bagus = (bilangan - parm['bagus_a']) / (parm['bagus_b'] - parm['bagus_a'])\n",
        "            \n",
        "            nilai_terkecil_buruk = min([nilai_asli_buruk, rest.buruk_akhir])\n",
        "            nilai_terkecil_bagus = min([nilai_asli_bagus, rest.bagus_akhir])\n",
        "            \n",
        "            nilai_max = max([nilai_terkecil_buruk, nilai_terkecil_bagus])\n",
        "            \n",
        "            pembilang += bilangan*nilai_max\n",
        "            penyebut += nilai_max\n",
        "\n",
        "    rest.nilai_akhir = pembilang // penyebut\n",
        "    \n",
        "    return rest\n",
        "\n",
        "# Melakukan defuzzifikasi terhadap data_restoran \n",
        "for i in range(len(restoran_data)):\n",
        "    restoran_data[i] = defuzzifikasi(20, restoran_data[i])"
      ],
      "execution_count": null,
      "outputs": []
    },
    {
      "cell_type": "markdown",
      "metadata": {
        "id": "t-2JcSV7bbb_"
      },
      "source": [
        "## Top 10 Ranking dan Output\n",
        "Berdasarkan nilai-nilai yang didapakan dari defuzzifikasi, kita dapat melakukan rangking untuk 10 besar restoran terbaik"
      ]
    },
    {
      "cell_type": "code",
      "metadata": {
        "id": "QtcLqEcjbbcA",
        "colab": {
          "base_uri": "https://localhost:8080/",
          "height": 340
        },
        "outputId": "11a97a36-bd03-4a10-cc1b-31d531ca63f9"
      },
      "source": [
        "def NilaiAkhirSort(restoran_temp: [restoran()]):\n",
        "        restoran_temp = sorted(restoran_temp, key=lambda x: x.nilai_akhir, reverse= 1)\n",
        "        return restoran_temp\n",
        "\n",
        "# Melakukan sorting terhadap restoran_data\n",
        "restoran_data = NilaiAkhirSort(restoran_data)\n",
        "\n",
        "# Memasukkan 10 restoran dengan nilai tertinggi ke dalam list data_akhir\n",
        "data_akhir = []\n",
        "for i in range(10):\n",
        "        data_temp = []\n",
        "        data_temp.append(restoran_data[i].id_restoran)\n",
        "        data_temp.append(restoran_data[i].nilai_akhir)\n",
        "        data_temp.append(restoran_data[i].pelayanan)\n",
        "        data_temp.append(restoran_data[i].makanan)\n",
        "        data_akhir.append(data_temp)\n",
        "\n",
        "# Memasukkan list data_akhir ke dalam dataframe df_akhir\n",
        "df_akhir = pd.DataFrame(data_akhir, columns=['id', 'nilai_akhir', 'pelayanan', 'makanan'])\n",
        "\n",
        "# Membuat excel dari dataframe df_akhir\n",
        "df_akhir.to_excel('luaran.xls', encoding='xlwt')\n",
        "\n",
        "df_akhir"
      ],
      "execution_count": null,
      "outputs": [
        {
          "output_type": "execute_result",
          "data": {
            "text/html": [
              "<div>\n",
              "<style scoped>\n",
              "    .dataframe tbody tr th:only-of-type {\n",
              "        vertical-align: middle;\n",
              "    }\n",
              "\n",
              "    .dataframe tbody tr th {\n",
              "        vertical-align: top;\n",
              "    }\n",
              "\n",
              "    .dataframe thead th {\n",
              "        text-align: right;\n",
              "    }\n",
              "</style>\n",
              "<table border=\"1\" class=\"dataframe\">\n",
              "  <thead>\n",
              "    <tr style=\"text-align: right;\">\n",
              "      <th></th>\n",
              "      <th>id</th>\n",
              "      <th>nilai_akhir</th>\n",
              "      <th>pelayanan</th>\n",
              "      <th>makanan</th>\n",
              "    </tr>\n",
              "  </thead>\n",
              "  <tbody>\n",
              "    <tr>\n",
              "      <th>0</th>\n",
              "      <td>1</td>\n",
              "      <td>79.0</td>\n",
              "      <td>58</td>\n",
              "      <td>7</td>\n",
              "    </tr>\n",
              "    <tr>\n",
              "      <th>1</th>\n",
              "      <td>6</td>\n",
              "      <td>79.0</td>\n",
              "      <td>59</td>\n",
              "      <td>10</td>\n",
              "    </tr>\n",
              "    <tr>\n",
              "      <th>2</th>\n",
              "      <td>7</td>\n",
              "      <td>79.0</td>\n",
              "      <td>61</td>\n",
              "      <td>8</td>\n",
              "    </tr>\n",
              "    <tr>\n",
              "      <th>3</th>\n",
              "      <td>20</td>\n",
              "      <td>79.0</td>\n",
              "      <td>49</td>\n",
              "      <td>10</td>\n",
              "    </tr>\n",
              "    <tr>\n",
              "      <th>4</th>\n",
              "      <td>24</td>\n",
              "      <td>79.0</td>\n",
              "      <td>100</td>\n",
              "      <td>9</td>\n",
              "    </tr>\n",
              "    <tr>\n",
              "      <th>5</th>\n",
              "      <td>25</td>\n",
              "      <td>79.0</td>\n",
              "      <td>61</td>\n",
              "      <td>10</td>\n",
              "    </tr>\n",
              "    <tr>\n",
              "      <th>6</th>\n",
              "      <td>27</td>\n",
              "      <td>79.0</td>\n",
              "      <td>59</td>\n",
              "      <td>8</td>\n",
              "    </tr>\n",
              "    <tr>\n",
              "      <th>7</th>\n",
              "      <td>39</td>\n",
              "      <td>79.0</td>\n",
              "      <td>52</td>\n",
              "      <td>7</td>\n",
              "    </tr>\n",
              "    <tr>\n",
              "      <th>8</th>\n",
              "      <td>42</td>\n",
              "      <td>79.0</td>\n",
              "      <td>94</td>\n",
              "      <td>10</td>\n",
              "    </tr>\n",
              "    <tr>\n",
              "      <th>9</th>\n",
              "      <td>51</td>\n",
              "      <td>79.0</td>\n",
              "      <td>48</td>\n",
              "      <td>10</td>\n",
              "    </tr>\n",
              "  </tbody>\n",
              "</table>\n",
              "</div>"
            ],
            "text/plain": [
              "   id  nilai_akhir  pelayanan  makanan\n",
              "0   1         79.0         58        7\n",
              "1   6         79.0         59       10\n",
              "2   7         79.0         61        8\n",
              "3  20         79.0         49       10\n",
              "4  24         79.0        100        9\n",
              "5  25         79.0         61       10\n",
              "6  27         79.0         59        8\n",
              "7  39         79.0         52        7\n",
              "8  42         79.0         94       10\n",
              "9  51         79.0         48       10"
            ]
          },
          "metadata": {
            "tags": []
          },
          "execution_count": 9
        }
      ]
    }
  ]
}